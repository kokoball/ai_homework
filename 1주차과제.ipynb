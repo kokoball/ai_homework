{
  "nbformat": 4,
  "nbformat_minor": 0,
  "metadata": {
    "colab": {
      "name": "1주차과제.ipynb",
      "provenance": [],
      "collapsed_sections": [],
      "authorship_tag": "ABX9TyP0A6PZkCgZvZ5AvJGSOTn5",
      "include_colab_link": true
    },
    "kernelspec": {
      "name": "python3",
      "display_name": "Python 3"
    }
  },
  "cells": [
    {
      "cell_type": "markdown",
      "metadata": {
        "id": "view-in-github",
        "colab_type": "text"
      },
      "source": [
        "<a href=\"https://colab.research.google.com/github/kokoball/ai_homework/blob/master/1%EC%A3%BC%EC%B0%A8%EA%B3%BC%EC%A0%9C.ipynb\" target=\"_parent\"><img src=\"https://colab.research.google.com/assets/colab-badge.svg\" alt=\"Open In Colab\"/></a>"
      ]
    },
    {
      "cell_type": "markdown",
      "metadata": {
        "id": "6sqSxBiPRyN0",
        "colab_type": "text"
      },
      "source": [
        "## 인공지능 사례 분석\n",
        "\n",
        "#### 언어,음성,이미지,자율주행 분야 예시 찾기\n"
      ]
    },
    {
      "cell_type": "markdown",
      "metadata": {
        "id": "slhnytr4SN2r",
        "colab_type": "text"
      },
      "source": [
        "## 언어 분야\n",
        "AI 도입으로 많은 변화가 기대되는 대표적인 분야 중 하나가 언어 번역이라고 볼 수 있다.\n",
        "AI를 이용한 '신경망 기계번역(Neural Machine Translation, NMT)' 기술이 계속 발전해 온 결과, 어학 공부를 하지 않아도 세계사람들과 의사소통할 수 있는 시대가 왔다고 진단할 수 있다. 이러한 기술 발전으로 언어의 장벽은 크게 낮아져 세계 여행지를 가더라도 심심치 않게 자동번역기가 목격되고 있다.\n",
        "또한 글자 번역에서 영어를 중국어로 번역하는 수준은 이미 인간 수준을 실현했다고 2018년 5월 마이크로소프트는 발표했다. 인간 수준을 뛰어넘는 일은 시간의 문제가 됐다고 할 수 있다."
      ]
    },
    {
      "cell_type": "markdown",
      "metadata": {
        "id": "QJmGQooqUViP",
        "colab_type": "text"
      },
      "source": [
        "##음성 분야\n",
        "우리가 쉽게 접할 수 있는 음성 분야에 사용된 인공지능 기술은 인공지능 비서(AI assistant)라 할 수 있는 시리, 빅스비, 구글 어시스턴트 등이다. 과거 비슷한 역할을 했던 카카오톡 추천 친구나 네이버톡톡 메신저 환경 같은 인간의 언어를 사용해 커뮤니케이션 하지만 인간처럼 대화하지 않고 필요도 없는 챗봇으로서 인공지능 보다는 자동화 프로그램 즉 '봇'의 개념에 가까웠다. 하지만 시리 같은 인공지능 비서는 자연어 처리(NLP)와 의사결정과정(Decision making)을 사용해 사람의 언어를 이해하고 의도를 파악하며 사람의 언어로 대답할 수 있다.\n",
        "\n"
      ]
    },
    {
      "cell_type": "markdown",
      "metadata": {
        "id": "yB5FARb5UVuZ",
        "colab_type": "text"
      },
      "source": [
        "## 이미지 분야\n",
        "요즘 스마트폰 카메라 기능중에 렌즈를 갖다 대기만 하면 알아서 피사체를 분석해주는 AI 카메라 기능이 있다. 이는 딥러닝 기반으로한 AI이미지 분석인데 사람의 시각처럼 높은 정확도와 다양한 사물 인식이 가능하다.\n",
        "cctv를 통해 허가되지 않은 인원의 접근을 통제할 수 있고 도로에서 과속 차량 식별과 번호판 식별 및 인식 모두 딥러닝의 일종 이라고 할 수 있다. 다른 예시로는 보안 검색대, 무인 스토어등이 있다.\n"
      ]
    },
    {
      "cell_type": "markdown",
      "metadata": {
        "id": "jcQqBr2hUV14",
        "colab_type": "text"
      },
      "source": [
        "## 자율주행 분야\n",
        "AI가 떠오르면서 자율주행 또한 대중의 관심을 받고 있다. 하지만 사람의 목숨이 걸린 만큼 기술의 완성도가 특히 중요하다. SAE 인터내셔널의 정의에 의하면, 레벨 4 이상 자율주행은 주행환경에 대한 모니터링과 시스템 오류에 대한 폴백 기능까지 모두 운전자의 개입 없이 시스템이 자체적으로 대응할 수 있는 수준이다. 이를 달성하기 위해 과거 규칙기반 접근방식을 벗어나 딥러닝 기반 기술 발전을 위해 노력하고 있다. 테슬라의 CEO 엘론 머스크는 진정한 자율주행 기술로서 규제 승인을 받기 위해서는 약 60억 마일의 실제 주행 데이터가 필요할 것이라 밝혔다. 테슬라는 2018년 6월 기준 전체 주행거리 78억 마일, 섀도 모드에서 16억 마일, 오토파일럿 모드에서 12억 마일 이상의 자율주행을 기록했으며, 웨이모의 자율주행차량은 2018년 10월 기준으로 미국 내 도로 누적 주행거리 1천만 마일을 초과했다.자율주행 AI 기술은 객체인식 외에 상황예측(Context Awareness), 충돌판단(Collision Assessment), 돌발 상황 대응, 주행영역 추출, 엔드투엔드(End-to-End) 등 다양하게 필요하다. 현재 AI 기술은 인지분야에 주로 활용되고 있고, 인지분야 중에서도 영상센서를 이용한 객체탐색용 딥러닝 모델을 활용한 연구가 가장 활발하게 진행되고 있다"
      ]
    },
    {
      "cell_type": "code",
      "metadata": {
        "id": "YEYzLQIAX4Y1",
        "colab_type": "code",
        "colab": {}
      },
      "source": [
        ""
      ],
      "execution_count": 0,
      "outputs": []
    }
  ]
}